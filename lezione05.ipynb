{
 "cells": [
  {
   "cell_type": "markdown",
   "metadata": {
    "collapsed": true
   },
   "source": [
    "# Funzioni\n",
    "\n",
    "Le funzioni sono dei costrutti che ci permettono di isolare una parte della logica del nostro programma in un punto e ci permettono di riutilizzare il codice più volte. \n",
    "\n",
    "* riutilizzare il codice\n",
    "* fare un test facilitato del vostro codice\n",
    "* scrivere i programmi più velocemente\n"
   ]
  },
  {
   "cell_type": "markdown",
   "metadata": {},
   "source": [
    "## Esempio 5.1\n",
    "\n",
    "Quando dobbiamo leggere una stringa scritta da tastiera, utilizziamo in realtà una funzione\n"
   ]
  },
  {
   "cell_type": "code",
   "execution_count": 1,
   "metadata": {},
   "outputs": [
    {
     "name": "stdout",
     "output_type": "stream",
     "text": [
      "Scrivi qualcosa: ciao\n"
     ]
    }
   ],
   "source": [
    "stringa = input('Scrivi qualcosa: ')"
   ]
  },
  {
   "cell_type": "markdown",
   "metadata": {},
   "source": [
    "## Chiamare o invocare una funzione\n",
    "\n",
    "Una funzione ha:\n",
    "\n",
    "1. un nome\n",
    "2. una lista di parametri (opzionale)\n",
    "3. un tipo di valore restituito (opzionale)\n",
    "\n",
    "Prendendo la definizione matematica di funzione abbiamo che\n",
    "\n",
    "Il nome corrisponde a un identificatore con cui vogliamo chiamare la relazione fra insieme/i di partenza e quello di arrivo.\n",
    "\n",
    "La lista di parametri corrisponde al generico elemento dell'insieme/i di partenza\n",
    "\n",
    "Il valore restituito è il generico elemento dell'insieme di arrivo. \n",
    "\n",
    "\n",
    "Abbiamo due tipi di funzioni a seconda del fatto che restituisca o meno un valore.\n",
    "\n",
    "* Chiamiamo _procedure_ le funzioni che *non* restituiscono alcun valore\n",
    "* Chiamiamo _funzioni_ (propriamente dette) quelle funzioni che restituiscono un valore\n",
    "\n",
    "Definire una funzione permette di applicare il concetto di _incapsulamento_: cioè definire delle istruzioni personalizzate che consentano di effettuare passi più complessi rispetto alle istruzioni semplici che abbiamo visto fino ad ora. \n"
   ]
  },
  {
   "cell_type": "markdown",
   "metadata": {},
   "source": [
    "## Definire una funzione\n",
    "\n",
    "Per definire una funzione, il linguaggio Python mette a disposizione la parola chiave _def_\n",
    "\n",
    "    def nomeFunzione(parametro1, parametro2, ..., parametroN):\n",
    "        istruzione1\n",
    "        istruzione2\n",
    "        ...\n",
    "        istruzioneN\n",
    "        return valore \n",
    "        \n",
    "La funzione che abbiamo definito sopra ha:\n",
    "\n",
    "* _nomeFunzione_ come nome\n",
    "* _parametro1, parametro2, ..., parametroN_ come parametri\n",
    "* ha come tipo restituito il tipo della variabile _valore_. Può essere uno qualsiasi dei tipi che abbiamo visto (booleano, intero, float, ecc.) o dei tipi che vedremo. \n",
    "\n",
    "Se in una funzione non è presente l'istruzione _return_, si tratta di una procedura. "
   ]
  },
  {
   "cell_type": "markdown",
   "metadata": {},
   "source": [
    "## Esempio 5.1 \n",
    "\n",
    "Scrivere una funzione che restituisca il cubo di un numero. "
   ]
  },
  {
   "cell_type": "code",
   "execution_count": 2,
   "metadata": {},
   "outputs": [],
   "source": [
    "# in questo blocco definiamo la funzione\n",
    "def cubo(a):\n",
    "    val = a**3\n",
    "    return val"
   ]
  },
  {
   "cell_type": "code",
   "execution_count": 4,
   "metadata": {},
   "outputs": [
    {
     "name": "stdout",
     "output_type": "stream",
     "text": [
      "8\n"
     ]
    },
    {
     "ename": "NameError",
     "evalue": "name 'val' is not defined",
     "output_type": "error",
     "traceback": [
      "\u001b[0;31m---------------------------------------------------------------------------\u001b[0m",
      "\u001b[0;31mNameError\u001b[0m                                 Traceback (most recent call last)",
      "\u001b[0;32m<ipython-input-4-5cd6f92d754c>\u001b[0m in \u001b[0;36m<module>\u001b[0;34m\u001b[0m\n\u001b[1;32m      3\u001b[0m \u001b[0mprint\u001b[0m\u001b[0;34m(\u001b[0m\u001b[0mcubo\u001b[0m\u001b[0;34m(\u001b[0m\u001b[0;36m2\u001b[0m\u001b[0;34m)\u001b[0m\u001b[0;34m)\u001b[0m\u001b[0;34m\u001b[0m\u001b[0;34m\u001b[0m\u001b[0m\n\u001b[1;32m      4\u001b[0m \u001b[0;34m\u001b[0m\u001b[0m\n\u001b[0;32m----> 5\u001b[0;31m \u001b[0mprint\u001b[0m\u001b[0;34m(\u001b[0m\u001b[0mval\u001b[0m\u001b[0;34m)\u001b[0m\u001b[0;34m\u001b[0m\u001b[0;34m\u001b[0m\u001b[0m\n\u001b[0m",
      "\u001b[0;31mNameError\u001b[0m: name 'val' is not defined"
     ]
    }
   ],
   "source": [
    "# la usiamo\n",
    "\n",
    "print(cubo(2))\n",
    "\n",
    "print(val)"
   ]
  },
  {
   "cell_type": "markdown",
   "metadata": {},
   "source": [
    "## Scope delle variabili\n",
    "\n",
    "Le variabili definite all'interno di una funzione \"vivono\" solo all'interno della funzione. Quando finisce la sua esecuzione sono cancellate. \n",
    "\n",
    "L'istruzione _return_ serve appunto per avere un modo per passare un valore calcolato all'interno della funzione verso l'esterno. "
   ]
  },
  {
   "cell_type": "markdown",
   "metadata": {},
   "source": [
    "## Esempio di scope interno alla funzione"
   ]
  },
  {
   "cell_type": "code",
   "execution_count": 5,
   "metadata": {},
   "outputs": [],
   "source": [
    "def esempioScope(a):\n",
    "    if a > 5:\n",
    "        val = 'valore maggiore di 5'\n",
    "    # se lo scope della variable fosse il blocco, allora non sarebbe \n",
    "    # possibile scrivere un valore corretto per val\n",
    "    print(val)"
   ]
  },
  {
   "cell_type": "code",
   "execution_count": 8,
   "metadata": {},
   "outputs": [
    {
     "name": "stdout",
     "output_type": "stream",
     "text": [
      "valore maggiore di 5\n"
     ]
    },
    {
     "ename": "NameError",
     "evalue": "name 'val' is not defined",
     "output_type": "error",
     "traceback": [
      "\u001b[0;31m---------------------------------------------------------------------------\u001b[0m",
      "\u001b[0;31mNameError\u001b[0m                                 Traceback (most recent call last)",
      "\u001b[0;32m<ipython-input-8-6bff8f1c30a2>\u001b[0m in \u001b[0;36m<module>\u001b[0;34m\u001b[0m\n\u001b[1;32m      1\u001b[0m \u001b[0mesempioScope\u001b[0m\u001b[0;34m(\u001b[0m\u001b[0;36m6\u001b[0m\u001b[0;34m)\u001b[0m\u001b[0;34m\u001b[0m\u001b[0;34m\u001b[0m\u001b[0m\n\u001b[0;32m----> 2\u001b[0;31m \u001b[0mprint\u001b[0m\u001b[0;34m(\u001b[0m\u001b[0mval\u001b[0m\u001b[0;34m)\u001b[0m\u001b[0;34m\u001b[0m\u001b[0;34m\u001b[0m\u001b[0m\n\u001b[0m\u001b[1;32m      3\u001b[0m \u001b[0mesempioScope\u001b[0m\u001b[0;34m(\u001b[0m\u001b[0;36m3\u001b[0m\u001b[0;34m)\u001b[0m\u001b[0;34m\u001b[0m\u001b[0;34m\u001b[0m\u001b[0m\n\u001b[1;32m      4\u001b[0m \u001b[0mprint\u001b[0m\u001b[0;34m(\u001b[0m\u001b[0mval\u001b[0m\u001b[0;34m)\u001b[0m\u001b[0;34m\u001b[0m\u001b[0;34m\u001b[0m\u001b[0m\n",
      "\u001b[0;31mNameError\u001b[0m: name 'val' is not defined"
     ]
    }
   ],
   "source": [
    "esempioScope(6)\n",
    "print(val)\n",
    "esempioScope(3)\n",
    "print(val)"
   ]
  },
  {
   "cell_type": "markdown",
   "metadata": {},
   "source": [
    "## Esempio 5.2\n",
    "\n",
    "Calcolare il cubo di un numero chiedendolo all'utente"
   ]
  },
  {
   "cell_type": "code",
   "execution_count": 10,
   "metadata": {},
   "outputs": [
    {
     "name": "stdout",
     "output_type": "stream",
     "text": [
      "Inserisci un numero: 2\n"
     ]
    }
   ],
   "source": [
    "# soluzione 1: definisco una nuova funzione che chiede l'input all'utente \n",
    "# e calcola il cubo\n",
    "\n",
    "def cuboUtente():\n",
    "    a = int(input('Inserisci un numero: '))\n",
    "    val = a**3\n",
    "    return val\n",
    "\n",
    "cuboUtente()"
   ]
  },
  {
   "cell_type": "code",
   "execution_count": 12,
   "metadata": {
    "scrolled": true
   },
   "outputs": [
    {
     "name": "stdout",
     "output_type": "stream",
     "text": [
      "Inserisci un numero: 3\n",
      "27\n"
     ]
    }
   ],
   "source": [
    "def cuboUtenteV2():\n",
    "    a = int(input('Inserisci un numero: '))\n",
    "    return cubo(a)\n",
    "\n",
    "print(cuboUtenteV2())"
   ]
  },
  {
   "cell_type": "markdown",
   "metadata": {},
   "source": [
    "## Funzione con più parametri"
   ]
  },
  {
   "cell_type": "code",
   "execution_count": 13,
   "metadata": {},
   "outputs": [
    {
     "name": "stdout",
     "output_type": "stream",
     "text": [
      "27\n"
     ]
    }
   ],
   "source": [
    "def eleva(a,n):\n",
    "    return a**n\n",
    "\n",
    "print(eleva(3,3))"
   ]
  },
  {
   "cell_type": "code",
   "execution_count": 15,
   "metadata": {},
   "outputs": [
    {
     "name": "stdout",
     "output_type": "stream",
     "text": [
      "27\n"
     ]
    }
   ],
   "source": [
    "# utilizziamo la funzione eleva per scrivere una versione \"modulare\"\n",
    "# del nostro cubo\n",
    "def cuboV2(a):\n",
    "    return eleva(a, 3)\n",
    "\n",
    "print(cuboV2(3))"
   ]
  },
  {
   "cell_type": "markdown",
   "metadata": {},
   "source": [
    "## Moduli o librerie\n",
    "\n",
    "In tutti i linguaggi di programmazione esiste la possibilità di suddividere il programma in più file, in modo da non avere del codice troppo lungo in un file solo. \n",
    "\n",
    "Inoltre, isolando la definizione di funzioni logicamente connesse allo stesso argomento c'è la possibilità di definire librerie o moduli riutilizzabili all'interno di diversi programmi. \n",
    "\n",
    "Per importare un modulo è sufficiente utilizzare l'istruzione _import_\n",
    "\n",
    "* o prende il modulo dalla libreria di moduli standard (p.es. math)\n",
    "* oppure lo prende da un file sul disco (fate l'import del percorso del file)\n",
    "\n",
    "Vedere la documentazione della libreria [math](https://docs.python.org/3/library/math.html)"
   ]
  },
  {
   "cell_type": "code",
   "execution_count": 20,
   "metadata": {},
   "outputs": [
    {
     "name": "stdout",
     "output_type": "stream",
     "text": [
      "9\n",
      "5\n",
      "6\n",
      "3.141592653589793\n",
      "5.0\n"
     ]
    }
   ],
   "source": [
    "import math\n",
    "\n",
    "print(math.ceil(8.8))\n",
    "print(math.ceil(5.0))\n",
    "print(math.ceil(5.1))\n",
    "print(math.pi)\n",
    "print(math.sqrt(25))"
   ]
  },
  {
   "cell_type": "code",
   "execution_count": null,
   "metadata": {},
   "outputs": [],
   "source": []
  }
 ],
 "metadata": {
  "kernelspec": {
   "display_name": "Python 3",
   "language": "python",
   "name": "python3"
  },
  "language_info": {
   "codemirror_mode": {
    "name": "ipython",
    "version": 3
   },
   "file_extension": ".py",
   "mimetype": "text/x-python",
   "name": "python",
   "nbconvert_exporter": "python",
   "pygments_lexer": "ipython3",
   "version": "3.9.4"
  }
 },
 "nbformat": 4,
 "nbformat_minor": 1
}
