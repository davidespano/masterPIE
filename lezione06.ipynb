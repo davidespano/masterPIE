{
 "cells": [
  {
   "cell_type": "markdown",
   "metadata": {
    "collapsed": true
   },
   "source": [
    "# Liste\n",
    "\n",
    "Le liste sono delle sequenze di variabili, che potete identificare con un singolo nome. Agli elementi di una lista si accede per indice.\n",
    "\n",
    "NB. l'indicizzazione degli elementi parte da zero."
   ]
  },
  {
   "cell_type": "code",
   "execution_count": 20,
   "metadata": {},
   "outputs": [
    {
     "name": "stdout",
     "output_type": "stream",
     "text": [
      "Il tipo della variabile è: <class 'list'>\n",
      "Il valore in posizione 2 è: 6\n",
      "2\n",
      "4\n",
      "6\n",
      "8\n",
      "10\n"
     ]
    }
   ],
   "source": [
    "even_numbers = [2, 4, 6, 8, 10]\n",
    "\n",
    "print('Il tipo della variabile è: ' + str(type(even_numbers)))\n",
    "\n",
    "# accedo a un elemento della lista\n",
    "\n",
    "print('Il valore in posizione 2 è: ' + str(even_numbers[2]))\n",
    "\n",
    "# scorrere gli elementi della lista\n",
    "print(even_numbers[0])\n",
    "print(even_numbers[1])\n",
    "print(even_numbers[2])\n",
    "print(even_numbers[3])\n",
    "print(even_numbers[4])"
   ]
  },
  {
   "cell_type": "markdown",
   "metadata": {},
   "source": [
    "## Scorrere una lista\n",
    "\n",
    "In generale raramente si accede agli elementi della lista con un indice dal valore costante. Più spesso si scorre una lista con un indice che è una variabile, per esempio seguendo un ciclo for.\n",
    "\n",
    "Per definire un ciclo for avete necessità di:\n",
    "\n",
    "* una variabile che rappresenti l'indice, di solito chiamata _i_ al primo livello, _j_ al secondo (for/while innestato) e _h_ al terzo. \n",
    "* qual è la lunghezza della lista (il numero di elementi contenuti)\n",
    "\n",
    "Per il secondo punto, potete utilizzare la funzione _len(lista)_"
   ]
  },
  {
   "cell_type": "code",
   "execution_count": 8,
   "metadata": {
    "scrolled": true
   },
   "outputs": [
    {
     "name": "stdout",
     "output_type": "stream",
     "text": [
      "2\n",
      "4\n",
      "6\n",
      "8\n",
      "10\n"
     ]
    }
   ],
   "source": [
    "# scorro gli elementi della lista con un for\n",
    "for i in range(0, len(even_numbers)):\n",
    "    print(even_numbers[i])"
   ]
  },
  {
   "cell_type": "markdown",
   "metadata": {},
   "source": [
    "## Le liste sono mutabili\n",
    "\n",
    "È possibile modificare gli elementi di una lista. Per far questo, è sufficiente assegnare in valore all'elemento della lista accedendoci per indice. \n",
    "\n",
    "    lista[i] = valore\n",
    "\n",
    "\n"
   ]
  },
  {
   "cell_type": "code",
   "execution_count": 16,
   "metadata": {},
   "outputs": [
    {
     "name": "stdout",
     "output_type": "stream",
     "text": [
      "3\n",
      "5\n",
      "7\n",
      "9\n",
      "11\n"
     ]
    }
   ],
   "source": [
    "# scorro gli elementi della lista con un for\n",
    "for i in range(0, len(even_numbers)):\n",
    "    even_numbers[i] += 1\n",
    "    print(even_numbers[i])\n",
    "    \n",
    "for i in range(0, len(even_numbers)):\n",
    "    even_numbers[i] = (i+1) * 2"
   ]
  },
  {
   "cell_type": "markdown",
   "metadata": {},
   "source": [
    "È possibile aggiungere o rimuovere degli elementi in una lista utilizzando due funzioni:\n",
    "\n",
    "_append_ Prende per parametro l'elemento che si vuole aggiungere\n",
    "\n",
    "    lista.append(valore)\n",
    "    \n",
    "_remove_ Prende per parametro l'elemento che si vuole rimuovere\n",
    "\n",
    "    lista.remove(valore)"
   ]
  },
  {
   "cell_type": "code",
   "execution_count": 21,
   "metadata": {},
   "outputs": [
    {
     "name": "stdout",
     "output_type": "stream",
     "text": [
      "2\n",
      "4\n",
      "6\n",
      "8\n",
      "10\n",
      "12\n"
     ]
    }
   ],
   "source": [
    "def stampaLista(lista):\n",
    "    for i in range(0, len(lista)):\n",
    "        print(lista[i])\n",
    "\n",
    "# prova di append\n",
    "even_numbers.append(12)\n",
    "stampaLista(even_numbers)"
   ]
  },
  {
   "cell_type": "code",
   "execution_count": 22,
   "metadata": {},
   "outputs": [
    {
     "name": "stdout",
     "output_type": "stream",
     "text": [
      "-----------\n",
      "2\n",
      "6\n",
      "8\n",
      "10\n",
      "12\n"
     ]
    }
   ],
   "source": [
    "# prova di remove\n",
    "even_numbers.remove(4)\n",
    "stampaLista(even_numbers)"
   ]
  },
  {
   "cell_type": "markdown",
   "metadata": {},
   "source": [
    "## Esempio 6.1\n",
    "\n",
    "Python consente di definire liste con elementi di tipo diverso. Fra i tipi che potete utilizzare ci sono anche le liste. Quindi, è possibile per esempio definire una matrice come una lista di liste."
   ]
  },
  {
   "cell_type": "code",
   "execution_count": 28,
   "metadata": {},
   "outputs": [
    {
     "name": "stdout",
     "output_type": "stream",
     "text": [
      "[7, 8, 9]\n",
      "<class 'int'>\n",
      "<class 'int'>\n",
      "<class 'int'>\n",
      "<class 'list'>\n"
     ]
    }
   ],
   "source": [
    "l = [4,5,6]\n",
    "m = [7,8,9]\n",
    "\n",
    "l.append(m)\n",
    "\n",
    "print(l[3])\n",
    "\n",
    "for i in range(0,len(l)):\n",
    "    print(type(l[i]))"
   ]
  },
  {
   "cell_type": "code",
   "execution_count": 30,
   "metadata": {},
   "outputs": [
    {
     "name": "stdout",
     "output_type": "stream",
     "text": [
      "[[0, 1, 2], [3, 4, 5], [6, 7, 8]]\n"
     ]
    }
   ],
   "source": [
    "# definisco una matrice\n",
    "\n",
    "r1 = [0, 1, 2]\n",
    "r2 = [3, 4, 5]\n",
    "r3 = [6, 7, 8]\n",
    "\n",
    "matrice = [r1, r2, r3]\n",
    "\n",
    "print(matrice)"
   ]
  },
  {
   "cell_type": "markdown",
   "metadata": {},
   "source": [
    "## Esercizio 6.1: Ricerca di un elemento in una lista\n",
    "\n",
    "Scrivere una funzione _cerca_ che prende per parametro una lista e un valore e restituisca l'indice nella lista corrispondente a quel valore se esiste, altrimenti restituisce -1."
   ]
  },
  {
   "cell_type": "code",
   "execution_count": 32,
   "metadata": {},
   "outputs": [],
   "source": [
    "def cerca(lista, valore):\n",
    "    for i in range(0,len(lista)):\n",
    "        if valore == lista[i]:\n",
    "            return i\n",
    "    return -1\n"
   ]
  },
  {
   "cell_type": "code",
   "execution_count": 35,
   "metadata": {},
   "outputs": [
    {
     "name": "stdout",
     "output_type": "stream",
     "text": [
      "4\n",
      "-1\n",
      "0\n"
     ]
    }
   ],
   "source": [
    "testCerca = [1,2,3,4,5,6]\n",
    "print(cerca(testCerca, 5))\n",
    "print(cerca(testCerca, 25))\n",
    "\n",
    "testCerca2 = [5,5,5,5,5,5,5]\n",
    "print(cerca(testCerca2, 5))"
   ]
  },
  {
   "cell_type": "code",
   "execution_count": 40,
   "metadata": {},
   "outputs": [],
   "source": [
    "# definiamo una implementazione che scorre la lista al contrario\n",
    "def cercaInversa(lista, valore):\n",
    "    for i in range(len(lista)-1, 0, -1):\n",
    "        if valore == lista[i]:\n",
    "            return i\n",
    "    return -1    "
   ]
  },
  {
   "cell_type": "code",
   "execution_count": 41,
   "metadata": {},
   "outputs": [
    {
     "name": "stdout",
     "output_type": "stream",
     "text": [
      "4\n",
      "-1\n",
      "6\n"
     ]
    }
   ],
   "source": [
    "testCerca = [1,2,3,4,5,6]\n",
    "print(cercaInversa(testCerca, 5))\n",
    "print(cercaInversa(testCerca, 25))\n",
    "\n",
    "testCerca2 = [5,5,5,5,5,5,5]\n",
    "print(cercaInversa(testCerca2, 5))"
   ]
  },
  {
   "cell_type": "markdown",
   "metadata": {},
   "source": [
    "## Funzioni sulle liste\n",
    "\n",
    "Esistono delle funzioni di libreria già implementate sulle liste. Per esempio, esiste una implementazione della funzione che abbiamo fatto per esercizio che si chiama _index_\n",
    "\n",
    "Ne esistono altre e le trovate [nella documentazione della libreria Python](https://docs.python.org/3/tutorial/datastructures.html)"
   ]
  },
  {
   "cell_type": "code",
   "execution_count": 42,
   "metadata": {},
   "outputs": [
    {
     "name": "stdout",
     "output_type": "stream",
     "text": [
      "4\n"
     ]
    },
    {
     "ename": "ValueError",
     "evalue": "25 is not in list",
     "output_type": "error",
     "traceback": [
      "\u001b[0;31m---------------------------------------------------------------------------\u001b[0m",
      "\u001b[0;31mValueError\u001b[0m                                Traceback (most recent call last)",
      "\u001b[0;32m<ipython-input-42-9306abf5db98>\u001b[0m in \u001b[0;36m<module>\u001b[0;34m\u001b[0m\n\u001b[1;32m      1\u001b[0m \u001b[0mtestCerca\u001b[0m \u001b[0;34m=\u001b[0m \u001b[0;34m[\u001b[0m\u001b[0;36m1\u001b[0m\u001b[0;34m,\u001b[0m\u001b[0;36m2\u001b[0m\u001b[0;34m,\u001b[0m\u001b[0;36m3\u001b[0m\u001b[0;34m,\u001b[0m\u001b[0;36m4\u001b[0m\u001b[0;34m,\u001b[0m\u001b[0;36m5\u001b[0m\u001b[0;34m,\u001b[0m\u001b[0;36m6\u001b[0m\u001b[0;34m]\u001b[0m\u001b[0;34m\u001b[0m\u001b[0;34m\u001b[0m\u001b[0m\n\u001b[1;32m      2\u001b[0m \u001b[0mprint\u001b[0m\u001b[0;34m(\u001b[0m\u001b[0mtestCerca\u001b[0m\u001b[0;34m.\u001b[0m\u001b[0mindex\u001b[0m\u001b[0;34m(\u001b[0m\u001b[0;36m5\u001b[0m\u001b[0;34m)\u001b[0m\u001b[0;34m)\u001b[0m\u001b[0;34m\u001b[0m\u001b[0;34m\u001b[0m\u001b[0m\n\u001b[0;32m----> 3\u001b[0;31m \u001b[0mprint\u001b[0m\u001b[0;34m(\u001b[0m\u001b[0mtestCerca\u001b[0m\u001b[0;34m.\u001b[0m\u001b[0mindex\u001b[0m\u001b[0;34m(\u001b[0m\u001b[0;36m25\u001b[0m\u001b[0;34m)\u001b[0m\u001b[0;34m)\u001b[0m\u001b[0;34m\u001b[0m\u001b[0;34m\u001b[0m\u001b[0m\n\u001b[0m",
      "\u001b[0;31mValueError\u001b[0m: 25 is not in list"
     ]
    }
   ],
   "source": [
    "testCerca = [1,2,3,4,5,6]\n",
    "print(testCerca.index(5))\n",
    "print(testCerca.index(25))"
   ]
  },
  {
   "cell_type": "markdown",
   "metadata": {},
   "source": [
    "## Copiare le liste\n",
    "\n",
    "Se vi chiedessi di scrivere un programma che assegna a una variabile a il valore 5 e di copiare su una variabile b il valore di a, probabilmente scrivereste questa istruzione:\n",
    "\n",
    "    a = 5\n",
    "    b = a"
   ]
  },
  {
   "cell_type": "code",
   "execution_count": 44,
   "metadata": {},
   "outputs": [
    {
     "name": "stdout",
     "output_type": "stream",
     "text": [
      "5\n",
      "5\n"
     ]
    }
   ],
   "source": [
    "a = 5\n",
    "b = a\n",
    "\n",
    "print(b)\n",
    "\n",
    "# se assegno a b il valore 4 e stampo a, ottengo...\n",
    "b = 4\n",
    "print(a)"
   ]
  },
  {
   "cell_type": "markdown",
   "metadata": {},
   "source": [
    "Se facciamo la stessa cosa con un valore lista, vediamo che succede."
   ]
  },
  {
   "cell_type": "code",
   "execution_count": 46,
   "metadata": {},
   "outputs": [
    {
     "name": "stdout",
     "output_type": "stream",
     "text": [
      "[1, 2, 3]\n",
      "101\n"
     ]
    }
   ],
   "source": [
    "la = [1, 2, 3]\n",
    "lb = la\n",
    "\n",
    "# mi aspetto che ci sia [1, 2, 3]\n",
    "print(lb)\n",
    "\n",
    "# eseguo questa istruzione\n",
    "lb[1] = 101\n",
    "\n",
    "print(la[1])"
   ]
  },
  {
   "cell_type": "markdown",
   "metadata": {},
   "source": [
    "L'assegnamento \n",
    "    \n",
    "    lb[1] = 101\n",
    "    \n",
    "Modifica anche il valore all'indice 1 della lista _la_ perché l'assegnamento \n",
    "\n",
    "    lb = la\n",
    "    \n",
    "Non copia l'intera lista, ma solo il riferimento al blocco dei valori di questa lista. Quindi _la_ e _lb_ riferiscono lo stesso blocco e una modifica ai valori interni di _la_ modifica anche i valori di _lb_ (che sono gli stessi. \n",
    "\n",
    "È possibile assegnare a _lb_ una copia dei valori di _la_, quindi una lista completamente diversa ma con all'interno gli stessi valori utilizzando la funzione _copy_\n"
   ]
  },
  {
   "cell_type": "code",
   "execution_count": 47,
   "metadata": {},
   "outputs": [
    {
     "name": "stdout",
     "output_type": "stream",
     "text": [
      "2\n"
     ]
    }
   ],
   "source": [
    "la = [1,2,3]\n",
    "lb = la.copy()\n",
    "\n",
    "lb[1] = 101\n",
    "\n",
    "print(la[1])"
   ]
  },
  {
   "cell_type": "markdown",
   "metadata": {},
   "source": [
    "## Le stringhe sono \"quasi\" delle liste di caratteri\n",
    "\n",
    "Sono però immutabili (non potete assegnare un singolo carattere).\n",
    "\n",
    "Trovate le funzioni associate alle stringhe [nella documentazione Python](https://docs.python.org/3/library/stdtypes.html)"
   ]
  },
  {
   "cell_type": "code",
   "execution_count": 55,
   "metadata": {},
   "outputs": [
    {
     "name": "stdout",
     "output_type": "stream",
     "text": [
      "i\n",
      "ciao da Davide\n",
      "ciao da Davide0123456789101112131415161718192021222324252627282930313233343536373839404142434445464748495051525354555657585960616263646566676869707172737475767778798081828384858687888990919293949596979899\n"
     ]
    }
   ],
   "source": [
    "s = \"ciao\"\n",
    "\n",
    "print(s[1])\n",
    "\n",
    "#s[1] = 'a'\n",
    "\n",
    "s += ' da Davide'\n",
    "print(s)\n",
    "\n",
    "for i in range(0, 100):\n",
    "    s += str(i)\n",
    "    \n",
    "print(s)"
   ]
  },
  {
   "cell_type": "code",
   "execution_count": null,
   "metadata": {},
   "outputs": [],
   "source": []
  }
 ],
 "metadata": {
  "kernelspec": {
   "display_name": "Python 3",
   "language": "python",
   "name": "python3"
  },
  "language_info": {
   "codemirror_mode": {
    "name": "ipython",
    "version": 3
   },
   "file_extension": ".py",
   "mimetype": "text/x-python",
   "name": "python",
   "nbconvert_exporter": "python",
   "pygments_lexer": "ipython3",
   "version": "3.9.4"
  }
 },
 "nbformat": 4,
 "nbformat_minor": 1
}
