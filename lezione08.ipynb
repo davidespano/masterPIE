{
 "cells": [
  {
   "cell_type": "markdown",
   "metadata": {
    "collapsed": true
   },
   "source": [
    "# Lezione 08\n",
    "\n",
    "## Dizionari\n",
    "\n",
    "I dizionari sono delle collezioni di variabili che associano a un valore detto chiave un altro valore detto contenuto. La chiave, contrariamente all'indice delle liste può essere un qualsiasi tipo (p. es. una stringa). Anche i valori possono essere di qualsiasi tipo. \n",
    "\n",
    "    dizionario = { 'chiave1': 'valore1, 'chiave2' : valore2, ..., 'chiaveN': valoreN}"
   ]
  },
  {
   "cell_type": "code",
   "execution_count": 1,
   "metadata": {},
   "outputs": [],
   "source": [
    "phonebook = {'Mario': '321 123456', 'Sara': '328 987654', 'Paolo': '342 456789'}"
   ]
  },
  {
   "cell_type": "markdown",
   "metadata": {},
   "source": [
    "| chiave | valore|\n",
    "|:---------|---------------|\n",
    "| 'Mario' | '321 123456'|\n",
    "|'Sara' | '328 987654'| \n",
    "|'Paolo'| '342 456789'|"
   ]
  },
  {
   "cell_type": "markdown",
   "metadata": {},
   "source": [
    "### Accesso a un valore del dizionario\n",
    "\n",
    "La sintassi è simile all'accesso di un elemento in una lista, solo che anziché utilizzare un indice di tipo intero si utilizza una delle chiavi che sono state specificate al momento della costruzione del dizionario. \n",
    "\n",
    "    dizionario[chiave] # restituisce il valore"
   ]
  },
  {
   "cell_type": "code",
   "execution_count": 3,
   "metadata": {},
   "outputs": [
    {
     "name": "stdout",
     "output_type": "stream",
     "text": [
      "321 123456\n"
     ]
    }
   ],
   "source": [
    "print(phonebook['Mario'])"
   ]
  },
  {
   "cell_type": "code",
   "execution_count": 4,
   "metadata": {},
   "outputs": [
    {
     "ename": "KeyError",
     "evalue": "'Pippo'",
     "output_type": "error",
     "traceback": [
      "\u001b[0;31m---------------------------------------------------------------------------\u001b[0m",
      "\u001b[0;31mKeyError\u001b[0m                                  Traceback (most recent call last)",
      "\u001b[0;32m<ipython-input-4-4967ec344fcb>\u001b[0m in \u001b[0;36m<module>\u001b[0;34m\u001b[0m\n\u001b[1;32m      1\u001b[0m \u001b[0;31m# accedo a una chiave che non è inserita nel dizionario\u001b[0m\u001b[0;34m\u001b[0m\u001b[0;34m\u001b[0m\u001b[0;34m\u001b[0m\u001b[0m\n\u001b[0;32m----> 2\u001b[0;31m \u001b[0mphonebook\u001b[0m\u001b[0;34m[\u001b[0m\u001b[0;34m'Pippo'\u001b[0m\u001b[0;34m]\u001b[0m\u001b[0;34m\u001b[0m\u001b[0;34m\u001b[0m\u001b[0m\n\u001b[0m",
      "\u001b[0;31mKeyError\u001b[0m: 'Pippo'"
     ]
    }
   ],
   "source": [
    "# accedo a una chiave che non è inserita nel dizionario\n",
    "phonebook['Pippo']"
   ]
  },
  {
   "cell_type": "markdown",
   "metadata": {},
   "source": [
    "È possibile verificare in anticipo se una chiave è definita all'interno di un dizionario con l'operatore _in_"
   ]
  },
  {
   "cell_type": "code",
   "execution_count": 6,
   "metadata": {},
   "outputs": [],
   "source": [
    "if 'Pippo' in phonebook:\n",
    "    print(phonebook['Pippo'])"
   ]
  },
  {
   "cell_type": "code",
   "execution_count": 7,
   "metadata": {},
   "outputs": [
    {
     "name": "stdout",
     "output_type": "stream",
     "text": [
      "328 987654\n"
     ]
    }
   ],
   "source": [
    "if 'Sara' in phonebook:\n",
    "    print(phonebook['Sara'])"
   ]
  },
  {
   "cell_type": "markdown",
   "metadata": {},
   "source": [
    "## Modifica di un dizionario\n",
    "\n",
    "Per modificare il contenuto associato a una chiave è sufficiente assegnare un nuovo valore al dizionario per quella chiave\n",
    "\n",
    "    dizionario[chiave] = nuovoValore"
   ]
  },
  {
   "cell_type": "code",
   "execution_count": 8,
   "metadata": {},
   "outputs": [
    {
     "name": "stdout",
     "output_type": "stream",
     "text": [
      "070 123456\n"
     ]
    }
   ],
   "source": [
    "# modifico il numero di telefono di Sara\n",
    "phonebook['Sara'] = '070 123456'\n",
    "\n",
    "print(phonebook['Sara'])"
   ]
  },
  {
   "cell_type": "markdown",
   "metadata": {},
   "source": [
    "## Cancellazione di un elemento nel dizionario\n",
    "\n",
    "Per cancellare un elemento dal dizionario è sufficiente utilizzare l'operatore _del_ seguito dall'accesso al valore da eliminare\n",
    "\n",
    "    del dizionario['chiave']"
   ]
  },
  {
   "cell_type": "markdown",
   "metadata": {},
   "source": [
    "Non è possibile modificare una chiave. Nel caso si voglia fare qualcosa del genere, seguire i passi:\n",
    "\n",
    "1. Salvare il contenuto associato alla vecchia chiave in una variabile temporanea\n",
    "2. Cancellare l'associazione nel dizionario tra la vecchia chiave e il valore\n",
    "3. Inserire una nuova associazione fra la nuova chiave e il valore salvato nella variabile temporanea\n",
    "\n",
    "Supponiamo per esempio che voglia modificare la chiave 'Sara' in 'Sara Rossi'"
   ]
  },
  {
   "cell_type": "code",
   "execution_count": 10,
   "metadata": {},
   "outputs": [],
   "source": [
    "# passo 1\n",
    "tmp = phonebook['Sara']\n",
    "\n",
    "# passo 2 \n",
    "del phonebook['Sara']\n",
    "\n",
    "# passo 3\n",
    "phonebook['Sara Rossi'] = tmp"
   ]
  },
  {
   "cell_type": "code",
   "execution_count": 11,
   "metadata": {},
   "outputs": [
    {
     "name": "stdout",
     "output_type": "stream",
     "text": [
      "070 123456\n"
     ]
    }
   ],
   "source": [
    "print(phonebook['Sara Rossi'])"
   ]
  },
  {
   "cell_type": "markdown",
   "metadata": {},
   "source": [
    "## Aggiungere una nuova associazione nel dizionario\n",
    "\n",
    "Per aggiungere un nuovo elemento nel dizionario semplicemente si utilizza l'istruzione di assegnamento di un valore a una chiave.\n",
    "\n",
    "* se la chiave non era presente nel dizionario prima dell'esecuzione dell'istruzione, viene aggiunto un nuovo elemento nel dizionario\n",
    "* se invece la chiave era già presente, allora si modifica il valore associato alla chiave specificata. \n",
    "\n"
   ]
  },
  {
   "cell_type": "code",
   "execution_count": 13,
   "metadata": {},
   "outputs": [
    {
     "name": "stdout",
     "output_type": "stream",
     "text": [
      "354 4567897\n"
     ]
    }
   ],
   "source": [
    "# qui viene aggiunto al dizionario\n",
    "phonebook['Paola'] = '354 4567897'\n",
    "print(phonebook['Paola'])"
   ]
  },
  {
   "cell_type": "code",
   "execution_count": 15,
   "metadata": {},
   "outputs": [
    {
     "name": "stdout",
     "output_type": "stream",
     "text": [
      "070 345678\n"
     ]
    }
   ],
   "source": [
    "# qui viene modificato il vecchio valore\n",
    "phonebook['Paola'] = '070 345678'\n",
    "print(phonebook['Paola'])"
   ]
  },
  {
   "cell_type": "markdown",
   "metadata": {},
   "source": [
    "## Ottenere il numero di elementi\n",
    "\n",
    "Come nelle liste si usa la funzione _len_\n",
    "\n",
    "    len(dizionario)"
   ]
  },
  {
   "cell_type": "code",
   "execution_count": 16,
   "metadata": {},
   "outputs": [
    {
     "name": "stdout",
     "output_type": "stream",
     "text": [
      "4\n"
     ]
    }
   ],
   "source": [
    "print(len(phonebook))"
   ]
  },
  {
   "cell_type": "markdown",
   "metadata": {},
   "source": [
    "## Accedere a un elemento nel dizionario senza errori\n",
    "\n",
    "È possibile utilizzare una funzione per non sollevare eccezioni (mandare il programma in crash) quando la chiave utilizzata non esiste. Restituisce il secondo valore passato per parametro nel caso la chiave non esista.\n",
    "\n",
    "Di solito, il valore che si passa è _None_ che è un valore speciale che indica l'assenza di valore. \n",
    "\n",
    "    dizionario.get(chiave, valoreSeInesistente)"
   ]
  },
  {
   "cell_type": "code",
   "execution_count": 18,
   "metadata": {},
   "outputs": [
    {
     "name": "stdout",
     "output_type": "stream",
     "text": [
      "None\n",
      "La chiave non esiste\n"
     ]
    }
   ],
   "source": [
    "print(phonebook.get('Pippo', None))\n",
    "print(phonebook.get('Pippo', 'La chiave non esiste'))"
   ]
  },
  {
   "cell_type": "markdown",
   "metadata": {},
   "source": [
    "## Fare un ciclo per leggere il contenuto di un dizionario\n",
    "\n",
    "Nel caso delle liste, si poteva scrivere un for che utilizzasse la sequenza di interi da 0 a _len(lista)_ per elencare gli indici con cui accedere al contenuto. Nel dizionario, non è possibile elencarli nel caso generale in modo matematico, ma si devono utilizzare delle funzioni associate al dizionario stesso. \n",
    "\n",
    "La prima che vediamo è la funzione _items_ che restituisce delle \"tuple\" (nel nostro caso delle coppie) chiave, valore.\n",
    "\n",
    "    for chiave, valore in dizionario.items():\n",
    "        dizionario[chiave] # restiuisce valore"
   ]
  },
  {
   "cell_type": "code",
   "execution_count": 19,
   "metadata": {},
   "outputs": [
    {
     "name": "stdout",
     "output_type": "stream",
     "text": [
      "La chiave corrente è Mario\n",
      "Il valore corrente è 321 123456\n",
      "---------------\n",
      "La chiave corrente è Paolo\n",
      "Il valore corrente è 342 456789\n",
      "---------------\n",
      "La chiave corrente è Sara Rossi\n",
      "Il valore corrente è 070 123456\n",
      "---------------\n",
      "La chiave corrente è Paola\n",
      "Il valore corrente è 070 345678\n",
      "---------------\n"
     ]
    }
   ],
   "source": [
    "for key, value in phonebook.items():\n",
    "    print('La chiave corrente è ' + key)\n",
    "    print('Il valore corrente è ' + value)\n",
    "    print('---------------')"
   ]
  },
  {
   "cell_type": "markdown",
   "metadata": {},
   "source": [
    "È possibile richiedere anche solo le chiavi con la funzione _keys_"
   ]
  },
  {
   "cell_type": "code",
   "execution_count": 20,
   "metadata": {},
   "outputs": [
    {
     "name": "stdout",
     "output_type": "stream",
     "text": [
      "La chiave corrente è Mario\n",
      "Il valore corrente è 321 123456\n",
      "---------------\n",
      "La chiave corrente è Paolo\n",
      "Il valore corrente è 342 456789\n",
      "---------------\n",
      "La chiave corrente è Sara Rossi\n",
      "Il valore corrente è 070 123456\n",
      "---------------\n",
      "La chiave corrente è Paola\n",
      "Il valore corrente è 070 345678\n",
      "---------------\n"
     ]
    }
   ],
   "source": [
    "for key in phonebook.keys():\n",
    "    print('La chiave corrente è ' + key)\n",
    "    print('Il valore corrente è ' + phonebook[key])\n",
    "    print('---------------')"
   ]
  },
  {
   "cell_type": "markdown",
   "metadata": {},
   "source": [
    "È anche possibile richiedere solo i valori con la funzione _values_"
   ]
  },
  {
   "cell_type": "code",
   "execution_count": 21,
   "metadata": {},
   "outputs": [
    {
     "name": "stdout",
     "output_type": "stream",
     "text": [
      "Il valore corrente è 321 123456\n",
      "---------------\n",
      "Il valore corrente è 342 456789\n",
      "---------------\n",
      "Il valore corrente è 070 123456\n",
      "---------------\n",
      "Il valore corrente è 070 345678\n",
      "---------------\n"
     ]
    }
   ],
   "source": [
    "for value in phonebook.values():\n",
    "    print('Il valore corrente è ' + value)\n",
    "    print('---------------')"
   ]
  },
  {
   "cell_type": "markdown",
   "metadata": {},
   "source": [
    "## Associare più valori a una chiave\n",
    "\n",
    "Possiamo farlo semplicemente associando a una chiave un valore lista.\n",
    "\n",
    "Supponiamo che 'Paola' abbia più di un numero di telefono. Che fare?\n",
    "\n",
    "1. creo una lista per contenere tutti i numeri di telefono\n",
    "2. ci salvo il numero corrente di 'Paola' nel dizionario (se esiste)\n",
    "3. aggiungo alla lista tutti gli altri numeri di telefono\n",
    "4. aggiorno il valore associato alla chiave 'Paola' impostando la lista"
   ]
  },
  {
   "cell_type": "code",
   "execution_count": 23,
   "metadata": {},
   "outputs": [
    {
     "name": "stdout",
     "output_type": "stream",
     "text": [
      "['070 345678', '070 123456', '070 987654']\n"
     ]
    }
   ],
   "source": [
    "listaNumeri = []\n",
    "listaNumeri.append(phonebook['Paola'])\n",
    "listaNumeri.append('070 123456')\n",
    "listaNumeri.append('070 987654')\n",
    "\n",
    "phonebook['Paola'] = listaNumeri\n",
    "\n",
    "print(phonebook['Paola'])"
   ]
  },
  {
   "cell_type": "code",
   "execution_count": null,
   "metadata": {},
   "outputs": [],
   "source": []
  }
 ],
 "metadata": {
  "kernelspec": {
   "display_name": "Python 3",
   "language": "python",
   "name": "python3"
  },
  "language_info": {
   "codemirror_mode": {
    "name": "ipython",
    "version": 3
   },
   "file_extension": ".py",
   "mimetype": "text/x-python",
   "name": "python",
   "nbconvert_exporter": "python",
   "pygments_lexer": "ipython3",
   "version": "3.9.4"
  }
 },
 "nbformat": 4,
 "nbformat_minor": 1
}
