{
 "cells": [
  {
   "cell_type": "markdown",
   "metadata": {},
   "source": [
    "## Libro di riferimento\n",
    "Introduzione a Python, Tony Gaddis, Pearson\n",
    "\n",
    "\n",
    "\n",
    "## Come funziona un programma in generale\n",
    "* Cenni all'architettura di un PC\n",
    "* Cenni ai linguaggi di programmazione\n",
    "* Compilazione/interpretazione di linguaggi ad alto livello\n",
    "\n"
   ]
  },
  {
   "cell_type": "markdown",
   "metadata": {},
   "source": [
    "## Hello world in Python"
   ]
  },
  {
   "cell_type": "code",
   "execution_count": 4,
   "metadata": {},
   "outputs": [
    {
     "name": "stdout",
     "output_type": "stream",
     "text": [
      "Hello world\n"
     ]
    }
   ],
   "source": [
    "print('Hello world')"
   ]
  },
  {
   "cell_type": "code",
   "execution_count": 7,
   "metadata": {},
   "outputs": [
    {
     "name": "stdout",
     "output_type": "stream",
     "text": [
      "Ciao, Davide Spano\n"
     ]
    }
   ],
   "source": [
    "print(\"Ciao, Davide Spano\")"
   ]
  },
  {
   "cell_type": "markdown",
   "metadata": {},
   "source": [
    "### Stringhe letterali"
   ]
  },
  {
   "cell_type": "markdown",
   "metadata": {},
   "source": [
    " Come scrivere una stringa con apostrofo"
   ]
  },
  {
   "cell_type": "code",
   "execution_count": 8,
   "metadata": {},
   "outputs": [
    {
     "name": "stdout",
     "output_type": "stream",
     "text": [
      "T'amo pio bove\n",
      "T'amo pio bove\n"
     ]
    }
   ],
   "source": [
    "print(\"T'amo pio bove\")\n",
    "print('T\\'amo pio bove')"
   ]
  },
  {
   "cell_type": "markdown",
   "metadata": {},
   "source": [
    "## Commenti"
   ]
  },
  {
   "cell_type": "code",
   "execution_count": 9,
   "metadata": {},
   "outputs": [
    {
     "name": "stdout",
     "output_type": "stream",
     "text": [
      "Hello World\n"
     ]
    }
   ],
   "source": [
    "# Questo programma stampa a schermo la scritta \"Hello World\"\n",
    "print('Hello World')"
   ]
  },
  {
   "cell_type": "markdown",
   "metadata": {},
   "source": [
    "## Variabili\n",
    "Simboli per denotare dei valori. Le variabili possono avere un valore diverso a seconda dello stato di esecuzione di un programma. "
   ]
  },
  {
   "cell_type": "code",
   "execution_count": 16,
   "metadata": {},
   "outputs": [
    {
     "name": "stdout",
     "output_type": "stream",
     "text": [
      "Hello World\n"
     ]
    }
   ],
   "source": [
    "x = \"Hello World\"\n",
    "print(x)"
   ]
  },
  {
   "cell_type": "markdown",
   "metadata": {},
   "source": [
    "In Python le variabili hanno un tipo che è determinato dal loro valore corrente. In diversi punti del programma una variabile può cambiare tipo.  Nell'esempio seguente utilizziamo l'operatore per effettuare una addizione e vediamo la differenza di risultato nel caso x sia una stringa o nel caso x sia un intero"
   ]
  },
  {
   "cell_type": "code",
   "execution_count": 17,
   "metadata": {},
   "outputs": [
    {
     "name": "stdout",
     "output_type": "stream",
     "text": [
      "Hello World, Davide\n",
      "11\n"
     ]
    }
   ],
   "source": [
    "# a questo punto x è una stringa. Uso l'operatore + per unire due stringhe\n",
    "x = x + \", Davide\"\n",
    "print(x) # mi aspetto che scriva \"Hello World, Davide\"\n",
    "\n",
    "x = 5\n",
    "x = x + 6 # qui non scrive 56, ma scrive 11, perché x è un intero\n",
    "print(x)"
   ]
  },
  {
   "cell_type": "code",
   "execution_count": null,
   "metadata": {},
   "outputs": [],
   "source": []
  }
 ],
 "metadata": {
  "kernelspec": {
   "display_name": "Python 3",
   "language": "python",
   "name": "python3"
  },
  "language_info": {
   "codemirror_mode": {
    "name": "ipython",
    "version": 3
   },
   "file_extension": ".py",
   "mimetype": "text/x-python",
   "name": "python",
   "nbconvert_exporter": "python",
   "pygments_lexer": "ipython3",
   "version": "3.9.4"
  }
 },
 "nbformat": 4,
 "nbformat_minor": 1
}