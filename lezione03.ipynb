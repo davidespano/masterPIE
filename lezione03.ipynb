{
 "cells": [
  {
   "cell_type": "markdown",
   "metadata": {
    "collapsed": true
   },
   "source": [
    "# Lezione 3: istruzioni condizionali\n",
    "\n",
    "# istruzione if\n",
    "Le istruzioni condizionali ci permettono di modificare il flusso del programma a seconda della valutazione di una espressione che chiamiamo condizione o guardia\n",
    "\n",
    "    if condizione:\n",
    "        istruzione 1\n",
    "        istruzione 2\n",
    "        istruzione 3\n",
    "    istruzione 4\n",
    "    \n",
    "Nell'esempio se condizione dovesse risultare vera, allora si eseguono le istruzioni 1,2,3 e poi 4. Se dovesse risultare falsa si esegue solo l'istruzione 4."
   ]
  },
  {
   "cell_type": "code",
   "execution_count": 2,
   "metadata": {},
   "outputs": [
    {
     "name": "stdout",
     "output_type": "stream",
     "text": [
      "Inserisci il valore della temperatura 18\n",
      "Ora puoi uscire\n"
     ]
    }
   ],
   "source": [
    "temperatura = int(input('Inserisci il valore della temperatura '))\n",
    "if temperatura < 10:\n",
    "    print('Metti il cappotto')\n",
    "print('Ora puoi uscire')"
   ]
  },
  {
   "cell_type": "markdown",
   "metadata": {},
   "source": [
    "## Operatori di comparazione numerici\n",
    "\n",
    "| Operatore | Significato         |\n",
    "|:----------|:--------------------|\n",
    "| <         | Minore di           |\n",
    "| >         | Maggiore di         |\n",
    "| <=        | Minore o uguale di  |\n",
    "| >=        | Maggiore o uguale di|\n",
    "| ==        | Uguale a            |\n",
    "| !=        | Diverso da          |"
   ]
  },
  {
   "cell_type": "code",
   "execution_count": 4,
   "metadata": {},
   "outputs": [
    {
     "name": "stdout",
     "output_type": "stream",
     "text": [
      "False\n",
      "True\n",
      "False\n",
      "True\n",
      "False\n",
      "True\n"
     ]
    }
   ],
   "source": [
    "x = 9\n",
    "y = 6.7\n",
    "\n",
    "print(x < y)\n",
    "print(x > y)\n",
    "print(x <= y)\n",
    "print(x >= y)\n",
    "print(x == y)\n",
    "print(x != y)"
   ]
  },
  {
   "cell_type": "markdown",
   "metadata": {},
   "source": [
    "## Variabili di tipo booleano\n",
    "Sono variabili che contengono il valore True o False\n"
   ]
  },
  {
   "cell_type": "code",
   "execution_count": 8,
   "metadata": {},
   "outputs": [
    {
     "name": "stdout",
     "output_type": "stream",
     "text": [
      "<class 'bool'>\n",
      "<class 'bool'>\n"
     ]
    }
   ],
   "source": [
    "a = True\n",
    "print(type(a))\n",
    "print(type(temperatura < 10)) # il tipo di una guardia è booleano"
   ]
  },
  {
   "cell_type": "markdown",
   "metadata": {},
   "source": [
    "## Istruzione if-else\n",
    "\n",
    "In questo caso, vogliamo scrivere una sequenza di istruzioni che viene eseguita se una guardia risulta vera e un'altra che viene eseguita se la guardia risulta falsa. \n",
    "\n",
    "    if condizione:\n",
    "        instruzione 1\n",
    "        instruzione 2\n",
    "    else:\n",
    "        istruzione 3\n",
    "        istruzione 4\n",
    "    istruzioni 5\n",
    "    \n",
    "Se la condizione è vera, si esegue l'istruzione 1 e 2. Se la condizione è falsa, si esegue l'istruzione 3 e 4. In ogni caso, alla fine, si esegue l'istruzione 5."
   ]
  },
  {
   "cell_type": "code",
   "execution_count": 10,
   "metadata": {},
   "outputs": [
    {
     "name": "stdout",
     "output_type": "stream",
     "text": [
      "Inserisci il valore della temperatura 18\n",
      "Non mettere il cappotto\n",
      "Ora puoi uscire\n"
     ]
    }
   ],
   "source": [
    "temperatura = int(input('Inserisci il valore della temperatura '))\n",
    "if temperatura < 10:\n",
    "    print('Metti il cappotto')\n",
    "else:\n",
    "    print('Non mettere il cappotto')\n",
    "print('Ora puoi uscire')"
   ]
  },
  {
   "cell_type": "markdown",
   "metadata": {},
   "source": [
    "## Esercizio 3.1 \n",
    "Roberto ha un'officina di riparazioni auto e ha diversi dipendenti. Se un dipendente lavora 40 ore la settimana, ogni ora oltre le 40 la sua paga oraria è una volta e mezza quella standard. Vuole scrivere un programma che calcoli la paga lorda di un dipendente, comprensiva degli straordinari."
   ]
  },
  {
   "cell_type": "code",
   "execution_count": null,
   "metadata": {},
   "outputs": [],
   "source": []
  }
 ],
 "metadata": {
  "kernelspec": {
   "display_name": "Python 3",
   "language": "python",
   "name": "python3"
  },
  "language_info": {
   "codemirror_mode": {
    "name": "ipython",
    "version": 3
   },
   "file_extension": ".py",
   "mimetype": "text/x-python",
   "name": "python",
   "nbconvert_exporter": "python",
   "pygments_lexer": "ipython3",
   "version": "3.9.4"
  }
 },
 "nbformat": 4,
 "nbformat_minor": 1
}
