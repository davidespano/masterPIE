{
 "cells": [
  {
   "cell_type": "markdown",
   "metadata": {
    "collapsed": true
   },
   "source": [
    "# Lezione 3: istruzioni condizionali\n",
    "\n",
    "# istruzione if\n",
    "Le istruzioni condizionali ci permettono di modificare il flusso del programma a seconda della valutazione di una espressione che chiamiamo condizione o guardia\n",
    "\n",
    "    if condizione:\n",
    "        istruzione 1\n",
    "        istruzione 2\n",
    "        istruzione 3\n",
    "    istruzione 4\n",
    "    \n",
    "Nell'esempio se condizione dovesse risultare vera, allora si eseguono le istruzioni 1,2,3 e poi 4. Se dovesse risultare falsa si esegue solo l'istruzione 4."
   ]
  },
  {
   "cell_type": "code",
   "execution_count": 12,
   "metadata": {},
   "outputs": [
    {
     "name": "stdout",
     "output_type": "stream",
     "text": [
      "Inserisci il valore della temperatura 10\n",
      "Ora puoi uscire\n"
     ]
    }
   ],
   "source": [
    "temperatura = int(input('Inserisci il valore della temperatura '))\n",
    "if temperatura < 10:\n",
    "    print('Metti il cappotto')\n",
    "print('Ora puoi uscire')"
   ]
  },
  {
   "cell_type": "markdown",
   "metadata": {},
   "source": [
    "## Operatori di comparazione numerici\n",
    "\n",
    "| Operatore | Significato         |\n",
    "|:----------|:--------------------|\n",
    "| <         | Minore di           |\n",
    "| >         | Maggiore di         |\n",
    "| <=        | Minore o uguale di  |\n",
    "| >=        | Maggiore o uguale di|\n",
    "| ==        | Uguale a            |\n",
    "| !=        | Diverso da          |"
   ]
  },
  {
   "cell_type": "code",
   "execution_count": 4,
   "metadata": {},
   "outputs": [
    {
     "name": "stdout",
     "output_type": "stream",
     "text": [
      "False\n",
      "True\n",
      "False\n",
      "True\n",
      "False\n",
      "True\n"
     ]
    }
   ],
   "source": [
    "x = 9\n",
    "y = 6.7\n",
    "\n",
    "print(x < y)\n",
    "print(x > y)\n",
    "print(x <= y)\n",
    "print(x >= y)\n",
    "print(x == y)\n",
    "print(x != y)"
   ]
  },
  {
   "cell_type": "markdown",
   "metadata": {},
   "source": [
    "## Variabili di tipo booleano\n",
    "Sono variabili che contengono il valore True o False\n"
   ]
  },
  {
   "cell_type": "code",
   "execution_count": 8,
   "metadata": {},
   "outputs": [
    {
     "name": "stdout",
     "output_type": "stream",
     "text": [
      "<class 'bool'>\n",
      "<class 'bool'>\n"
     ]
    }
   ],
   "source": [
    "a = True\n",
    "print(type(a))\n",
    "print(type(temperatura < 10)) # il tipo di una guardia è booleano"
   ]
  },
  {
   "cell_type": "markdown",
   "metadata": {},
   "source": [
    "## Istruzione if-else\n",
    "\n",
    "In questo caso, vogliamo scrivere una sequenza di istruzioni che viene eseguita se una guardia risulta vera e un'altra che viene eseguita se la guardia risulta falsa. \n",
    "\n",
    "    if condizione:\n",
    "        instruzione 1\n",
    "        instruzione 2\n",
    "    else:\n",
    "        istruzione 3\n",
    "        istruzione 4\n",
    "    istruzioni 5\n",
    "    \n",
    "Se la condizione è vera, si esegue l'istruzione 1 e 2. Se la condizione è falsa, si esegue l'istruzione 3 e 4. In ogni caso, alla fine, si esegue l'istruzione 5."
   ]
  },
  {
   "cell_type": "code",
   "execution_count": 10,
   "metadata": {},
   "outputs": [
    {
     "name": "stdout",
     "output_type": "stream",
     "text": [
      "Inserisci il valore della temperatura 18\n",
      "Non mettere il cappotto\n",
      "Ora puoi uscire\n"
     ]
    }
   ],
   "source": [
    "temperatura = int(input('Inserisci il valore della temperatura '))\n",
    "if temperatura < 10:\n",
    "    print('Metti il cappotto')\n",
    "else:\n",
    "    print('Non mettere il cappotto')\n",
    "print('Ora puoi uscire')"
   ]
  },
  {
   "cell_type": "markdown",
   "metadata": {},
   "source": [
    "## Esercizio 3.1 \n",
    "Roberto ha un'officina di riparazioni auto e ha diversi dipendenti. Se un dipendente lavora 40 ore la settimana, ogni ora oltre le 40 la sua paga oraria è una volta e mezza quella standard. Vuole scrivere un programma che calcoli la paga lorda di un dipendente, comprensiva degli straordinari."
   ]
  },
  {
   "cell_type": "code",
   "execution_count": 5,
   "metadata": {},
   "outputs": [
    {
     "name": "stdout",
     "output_type": "stream",
     "text": [
      "Inserire le ore lavorate30\n",
      "Lo stipendio lordo è 1500\n"
     ]
    }
   ],
   "source": [
    "x = int(input('Inserire le ore lavorate'))\n",
    "pagaStandard = 50\n",
    "oreStandard = 40\n",
    "pagaAggiuntiva = 1.5\n",
    "\n",
    "if x <= oreStandard:\n",
    "    stipendio = x * pagaStandard;\n",
    "else:\n",
    "    oreAggiuntive = x - oreStandard\n",
    "    stipendio = oreStandard * pagaStandard + pagaAggiuntiva * pagaStandard * oreAggiuntive\n",
    "print('Lo stipendio lordo è ' + str(stipendio))"
   ]
  },
  {
   "cell_type": "markdown",
   "metadata": {},
   "source": [
    "## Comparare stringhe\n",
    "\n",
    "Le stringhe si possono comparare con gli stessi operatori degli interi, si usa l'ordinamento alfabetico\n"
   ]
  },
  {
   "cell_type": "code",
   "execution_count": 6,
   "metadata": {},
   "outputs": [
    {
     "name": "stdout",
     "output_type": "stream",
     "text": [
      "True\n"
     ]
    }
   ],
   "source": [
    "a = \"Ciao\"\n",
    "b = \"Bau\"\n",
    "\n",
    "print(a > b)"
   ]
  },
  {
   "cell_type": "markdown",
   "metadata": {},
   "source": [
    "# Strutture nidificate di istruzioni condizionali\n",
    "\n",
    "Una delle istruzioni all'interno di una istruzione condizionale può essere un'altra istruzione condizionale. \n",
    "\n",
    "    if condizioneA: \n",
    "        if condizioneB :\n",
    "            istruzione 1\n",
    "            istruzione 2\n",
    "        else:\n",
    "            istruzione3\n",
    "            istruzione4\n",
    "    else:\n",
    "        istruzione 5\n",
    "        istruzione 6\n",
    "        \n",
    "* Le istruzioni 1 e 2 vengono eseguite se la condizione A è vera e anche se la condizione B è vera\n",
    "* Le istruzioni 3 e 4 vengono eseguite se la condizione A è vera e la condizione B è falsa\n",
    "* Le istruzioni 5 e 6 vengono eseguite se la condizione A è falsa"
   ]
  },
  {
   "cell_type": "markdown",
   "metadata": {},
   "source": [
    "### Esempio\n",
    "Vogliamo scrivere un programma che permetta di stabilire se può essere concesso un mutuo. Il mutuo viene concesso se il richiedente ha un salario di almeno 30000 euro e se ha questo lavoro da almeno due anni. "
   ]
  },
  {
   "cell_type": "code",
   "execution_count": 11,
   "metadata": {},
   "outputs": [
    {
     "name": "stdout",
     "output_type": "stream",
     "text": [
      "Inserire lo stipendio annuo 31000\n",
      "Inserire il numero di anni 2\n",
      "Mutuo erogabile\n"
     ]
    }
   ],
   "source": [
    "stipendio = int(input('Inserire lo stipendio annuo '))\n",
    "anni = int(input('Inserire il numero di anni '))\n",
    "minStipendio = 30000\n",
    "stessoLavoro = 2\n",
    "\n",
    "if stipendio >= minStipendio:\n",
    "    if anni >= stessoLavoro:\n",
    "        print('Mutuo erogabile')\n",
    "    else:\n",
    "        print('Mutuo non erogabile - 2')\n",
    "else:\n",
    "    print('Mutuo non erogabile - 1')\n",
    "        "
   ]
  },
  {
   "cell_type": "code",
   "execution_count": 13,
   "metadata": {},
   "outputs": [
    {
     "name": "stdout",
     "output_type": "stream",
     "text": [
      "Inserire lo stipendio annuo 31000\n",
      "Inserire il numero di anni 2\n",
      "Mutuo erogabile\n"
     ]
    }
   ],
   "source": [
    "# versione più elegante dello stesso programma - uso di flag\n",
    "\n",
    "stipendio = int(input('Inserire lo stipendio annuo '))\n",
    "anni = int(input('Inserire il numero di anni '))\n",
    "minStipendio = 30000\n",
    "stessoLavoro = 2\n",
    "\n",
    "decisione = False # variabile flag, indica il \"percorso\" all'interno dei rami delle condizioni\n",
    "\n",
    "if stipendio >= minStipendio:\n",
    "    if anni >= stessoLavoro:\n",
    "        decisione = True;\n",
    "\n",
    "if decisione:\n",
    "    print('Mutuo erogabile')\n",
    "else:\n",
    "    print('Mutuo non erogabile')"
   ]
  },
  {
   "cell_type": "markdown",
   "metadata": {},
   "source": [
    "## Istruzione if-elif\n",
    "\n",
    "Permette di scrivere in modo più leggibile una serie di controlli \"a cascata\""
   ]
  },
  {
   "cell_type": "markdown",
   "metadata": {},
   "source": [
    "## Esempio 3.2\n",
    "Sistema di voti americano\n",
    "\n",
    "| Percentile | Voto |\n",
    "|:-----------|------|\n",
    "|90 o più    | A    |\n",
    "|80 - 89.    | B.   |\n",
    "|70 - 79.    | C.   |\n",
    "|60 - 69.    | D.   |\n",
    "|sotto 60    | F.   |\n",
    "\n",
    "Vogliamo scrivere un programma che assegni il voto ricevendo come input il percentile"
   ]
  },
  {
   "cell_type": "code",
   "execution_count": 17,
   "metadata": {},
   "outputs": [
    {
     "name": "stdout",
     "output_type": "stream",
     "text": [
      "Inserire il percentile 90\n",
      "Il voto è A\n"
     ]
    }
   ],
   "source": [
    "percentile = int(input('Inserire il percentile '))\n",
    "voto = ''\n",
    "\n",
    "if percentile >= 90:\n",
    "    voto = 'A'\n",
    "else:\n",
    "    if percentile >= 80:\n",
    "        voto = 'B'\n",
    "    else:\n",
    "        if percentile >= 70:\n",
    "            voto = 'C'\n",
    "        else:\n",
    "            if percentile >= 60:\n",
    "                voto = 'D'\n",
    "            else:\n",
    "                voto = 'F'\n",
    "                \n",
    "print('Il voto è '+ voto)"
   ]
  },
  {
   "cell_type": "code",
   "execution_count": 18,
   "metadata": {},
   "outputs": [
    {
     "name": "stdout",
     "output_type": "stream",
     "text": [
      "Inserire il percentile 67\n",
      "Il voto è D\n"
     ]
    }
   ],
   "source": [
    "# versione dello stesso programma di sopra con l'istruzione if-elif\n",
    "percentile = int(input('Inserire il percentile '))\n",
    "voto = ''\n",
    "\n",
    "if percentile >= 90:\n",
    "    voto = 'A'\n",
    "elif percentile >= 80:\n",
    "    voto = 'B'\n",
    "elif percentile >= 70:\n",
    "    voto = 'C'\n",
    "elif percentile >= 60:\n",
    "    voto = 'D'\n",
    "else:\n",
    "    voto = 'F'\n",
    "                \n",
    "print('Il voto è '+ voto)"
   ]
  },
  {
   "cell_type": "code",
   "execution_count": null,
   "metadata": {},
   "outputs": [],
   "source": []
  }
 ],
 "metadata": {
  "kernelspec": {
   "display_name": "Python 3",
   "language": "python",
   "name": "python3"
  },
  "language_info": {
   "codemirror_mode": {
    "name": "ipython",
    "version": 3
   },
   "file_extension": ".py",
   "mimetype": "text/x-python",
   "name": "python",
   "nbconvert_exporter": "python",
   "pygments_lexer": "ipython3",
   "version": "3.9.4"
  }
 },
 "nbformat": 4,
 "nbformat_minor": 1
}
