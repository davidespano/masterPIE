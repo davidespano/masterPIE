{
 "cells": [
  {
   "cell_type": "markdown",
   "metadata": {},
   "source": [
    "# Lezione 07\n",
    "\n",
    "## Esercizio 7.1\n",
    "\n",
    "Scrivere una funzione Python che, dato una lista di interi in ingresso come parametro, la restituisca ordinata. "
   ]
  },
  {
   "cell_type": "code",
   "execution_count": 5,
   "metadata": {},
   "outputs": [],
   "source": [
    "def sort(lista):\n",
    "    # modifica la lista con il vostro codice\n",
    "    \n",
    "    # in coda restituisce la lista ordinata\n",
    "    return lista"
   ]
  },
  {
   "cell_type": "code",
   "execution_count": 10,
   "metadata": {},
   "outputs": [
    {
     "name": "stdout",
     "output_type": "stream",
     "text": [
      "[5, 3, 8, 9, 4, 7]\n",
      "[3, 4, 5, 7, 8, 9]\n"
     ]
    }
   ],
   "source": [
    "l = [5, 3, 8, 9, 4, 7]\n",
    "\n",
    "print(sort(l))\n",
    "\n",
    "l2 = l.copy()\n",
    "l2.sort()\n",
    "print(l2)"
   ]
  },
  {
   "cell_type": "code",
   "execution_count": null,
   "metadata": {},
   "outputs": [],
   "source": []
  }
 ],
 "metadata": {
  "kernelspec": {
   "display_name": "Python 3",
   "language": "python",
   "name": "python3"
  },
  "language_info": {
   "codemirror_mode": {
    "name": "ipython",
    "version": 3
   },
   "file_extension": ".py",
   "mimetype": "text/x-python",
   "name": "python",
   "nbconvert_exporter": "python",
   "pygments_lexer": "ipython3",
   "version": "3.9.4"
  }
 },
 "nbformat": 4,
 "nbformat_minor": 1
}