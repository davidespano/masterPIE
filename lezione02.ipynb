{
 "cells": [
  {
   "cell_type": "markdown",
   "metadata": {
    "collapsed": true
   },
   "source": [
    "# Lezione 2\n",
    "\n",
    "## Regole di denominazione\n"
   ]
  },
  {
   "cell_type": "code",
   "execution_count": 1,
   "metadata": {},
   "outputs": [
    {
     "name": "stdout",
     "output_type": "stream",
     "text": [
      "5\n",
      "6\n"
     ]
    }
   ],
   "source": [
    "# il Python fa distizione fra maiscole e minuscole\n",
    "variabile = 5\n",
    "Variabile = 6\n",
    "\n",
    "print(variabile)\n",
    "print(Variabile)\n"
   ]
  },
  {
   "cell_type": "code",
   "execution_count": 2,
   "metadata": {},
   "outputs": [],
   "source": [
    "# potete inserire dei numeri nel nome della variabile, ma non al primo carattere"
   ]
  },
  {
   "cell_type": "code",
   "execution_count": 4,
   "metadata": {},
   "outputs": [
    {
     "ename": "SyntaxError",
     "evalue": "invalid syntax (<ipython-input-4-e7a193afae4c>, line 4)",
     "output_type": "error",
     "traceback": [
      "\u001b[0;36m  File \u001b[0;32m\"<ipython-input-4-e7a193afae4c>\"\u001b[0;36m, line \u001b[0;32m4\u001b[0m\n\u001b[0;31m    3ab = \"3ab\"\u001b[0m\n\u001b[0m     ^\u001b[0m\n\u001b[0;31mSyntaxError\u001b[0m\u001b[0;31m:\u001b[0m invalid syntax\n"
     ]
    }
   ],
   "source": [
    "h2o = \"acqua\"\n",
    "print(h2o)\n",
    "\n",
    "3ab = \"3ab\" # errore di sintassi atteso"
   ]
  },
  {
   "cell_type": "markdown",
   "metadata": {},
   "source": [
    "## Tipi interi, float e stringhe\n",
    "\n",
    "* gli interi sono numeri che non hanno la virgola (sia positivi che negativi)\n",
    "* i float sono numeri che hanno la virgola \n",
    "* le stringhe che sono sequenze di caratteri\n",
    "\n",
    "Con la funzione \n",
    "\n",
    "    type(variabile)\n",
    "    \n",
    "Possiamo ottenere il tipo corrente di una variabile"
   ]
  },
  {
   "cell_type": "code",
   "execution_count": 7,
   "metadata": {},
   "outputs": [
    {
     "name": "stdout",
     "output_type": "stream",
     "text": [
      "<class 'int'>\n",
      "<class 'str'>\n",
      "<class 'float'>\n"
     ]
    }
   ],
   "source": [
    "a = 1\n",
    "print(type(a)) # a è una variabile intera\n",
    "\n",
    "a = \"ciao\"\n",
    "print(type(a)) # a è una stringa\n",
    "\n",
    "a = 1.2\n",
    "print(type(a)) # a è un float"
   ]
  },
  {
   "cell_type": "markdown",
   "metadata": {},
   "source": [
    "È possibile cambiare il tipo di un valore utilizzando delle funzioni di conversione"
   ]
  },
  {
   "cell_type": "code",
   "execution_count": 13,
   "metadata": {},
   "outputs": [
    {
     "name": "stdout",
     "output_type": "stream",
     "text": [
      "3\n",
      "12\n",
      "13\n",
      "44 gatti\n",
      "45216.0\n"
     ]
    }
   ],
   "source": [
    "print(1+2)\n",
    "print('1' + '2')\n",
    "a = '1' + '2'\n",
    "\n",
    "# convertiamo a in un intero e sommiamo uno\n",
    "print(int(a) + 1)\n",
    "\n",
    "# convertiamo un intero nella corrispondente stringa\n",
    "b = 44\n",
    "print(str(b) + ' gatti')\n",
    "\n",
    "# convertiamo una stringa in un float\n",
    "c = \"3.14\"\n",
    "r = 120\n",
    "print(float(c) * r * r)"
   ]
  },
  {
   "cell_type": "markdown",
   "metadata": {},
   "source": [
    "## Input da tastiera\n",
    "\n",
    "Esiste una funzione di libreria Python che si chiama input\n"
   ]
  },
  {
   "cell_type": "code",
   "execution_count": 17,
   "metadata": {},
   "outputs": [
    {
     "name": "stdout",
     "output_type": "stream",
     "text": [
      "ciao\n",
      "ciao\n"
     ]
    }
   ],
   "source": [
    "# leggo il valore della variabile a da tastiera\n",
    "a = input()\n",
    "print(a)"
   ]
  },
  {
   "cell_type": "code",
   "execution_count": 23,
   "metadata": {},
   "outputs": [
    {
     "name": "stdout",
     "output_type": "stream",
     "text": [
      "Scrivi il primo numero \n",
      "ciao\n",
      "Scrivi il secondo numero\n",
      "davide\n"
     ]
    },
    {
     "ename": "ValueError",
     "evalue": "invalid literal for int() with base 10: 'ciao'",
     "output_type": "error",
     "traceback": [
      "\u001b[0;31m---------------------------------------------------------------------------\u001b[0m",
      "\u001b[0;31mValueError\u001b[0m                                Traceback (most recent call last)",
      "\u001b[0;32m<ipython-input-23-1d200d45c118>\u001b[0m in \u001b[0;36m<module>\u001b[0;34m\u001b[0m\n\u001b[1;32m      6\u001b[0m \u001b[0my\u001b[0m \u001b[0;34m=\u001b[0m \u001b[0minput\u001b[0m\u001b[0;34m(\u001b[0m\u001b[0;34m)\u001b[0m\u001b[0;34m\u001b[0m\u001b[0;34m\u001b[0m\u001b[0m\n\u001b[1;32m      7\u001b[0m \u001b[0;34m\u001b[0m\u001b[0m\n\u001b[0;32m----> 8\u001b[0;31m \u001b[0mz\u001b[0m \u001b[0;34m=\u001b[0m \u001b[0mint\u001b[0m\u001b[0;34m(\u001b[0m\u001b[0mx\u001b[0m\u001b[0;34m)\u001b[0m \u001b[0;34m+\u001b[0m \u001b[0mint\u001b[0m\u001b[0;34m(\u001b[0m\u001b[0my\u001b[0m\u001b[0;34m)\u001b[0m\u001b[0;34m\u001b[0m\u001b[0;34m\u001b[0m\u001b[0m\n\u001b[0m\u001b[1;32m      9\u001b[0m \u001b[0mprint\u001b[0m\u001b[0;34m(\u001b[0m\u001b[0;34m'La somma dei due numeri è '\u001b[0m \u001b[0;34m+\u001b[0m \u001b[0mstr\u001b[0m\u001b[0;34m(\u001b[0m\u001b[0mz\u001b[0m\u001b[0;34m)\u001b[0m\u001b[0;34m)\u001b[0m\u001b[0;34m\u001b[0m\u001b[0;34m\u001b[0m\u001b[0m\n",
      "\u001b[0;31mValueError\u001b[0m: invalid literal for int() with base 10: 'ciao'"
     ]
    }
   ],
   "source": [
    "# scrivo un piccolo programma che fa la somma di due numeri\n",
    "print('Scrivi il primo numero ')\n",
    "x = input()\n",
    "\n",
    "print('Scrivi il secondo numero')\n",
    "y = input()\n",
    "\n",
    "z = int(x) + int(y)\n",
    "print('La somma dei due numeri è ' + str(z))\n"
   ]
  },
  {
   "cell_type": "markdown",
   "metadata": {},
   "source": [
    "## Esercizio 2.1\n",
    "Dovete chiedere all'utente di un programma di inserire il proprio cognome. Scrivete un'istruzione che richieda all'utente di inserire questo dato e assegni l'input a una variabile."
   ]
  },
  {
   "cell_type": "code",
   "execution_count": 24,
   "metadata": {},
   "outputs": [
    {
     "name": "stdout",
     "output_type": "stream",
     "text": [
      "Inserire il proprio cognome \n",
      "Spano\n",
      "Spano\n"
     ]
    }
   ],
   "source": [
    "print('Inserire il proprio cognome ')\n",
    "cognome = input()\n",
    "\n",
    "print(cognome)"
   ]
  },
  {
   "cell_type": "markdown",
   "metadata": {},
   "source": [
    "## Eseguire dei calcoli\n",
    "\n",
    "| Simbolo | Operazione | Descrizione| \n",
    "|---------|------------|------------|\n",
    "| +       | Addizione  | Somma due numeri |\n",
    "| -       | Sottrazione | Differenza fra due numeri |\n",
    "| *       | Moltiplicazione | Prodotto fra due numeri|\n",
    "| / | Divisione | Quoziente fra due numeri |\n",
    "| // | Divisione intera | Divide un numero per un altro e restituisce un intero |\n",
    "| % | Resto | Resto della divisione intera |\n",
    "|** | Esponente | Elevamento a potenza |"
   ]
  },
  {
   "cell_type": "code",
   "execution_count": 30,
   "metadata": {},
   "outputs": [
    {
     "name": "stdout",
     "output_type": "stream",
     "text": [
      "6\n",
      "6.5\n",
      "1\n",
      "25\n"
     ]
    }
   ],
   "source": [
    "# esempio di divisione intera\n",
    "print(13 // 2)\n",
    "\n",
    "# esempio di divisione (non intera)\n",
    "print(13 / 2)\n",
    "\n",
    "# resto della divisione intera\n",
    "print(13 % 2)\n",
    "\n",
    "# elevamento a potenza\n",
    "print(5**2)"
   ]
  },
  {
   "cell_type": "markdown",
   "metadata": {},
   "source": [
    "### Calcolo di una media\n"
   ]
  },
  {
   "cell_type": "code",
   "execution_count": 33,
   "metadata": {},
   "outputs": [
    {
     "name": "stdout",
     "output_type": "stream",
     "text": [
      "411.0\n"
     ]
    }
   ],
   "source": [
    "a = 789\n",
    "b = 123\n",
    "c = 321\n",
    "\n",
    "# gli operatori hanno una precedenza che può essere controllata tramite parentesi\n",
    "media = (a + b + c )/ 3\n",
    "print(media)"
   ]
  },
  {
   "cell_type": "markdown",
   "metadata": {},
   "source": [
    "## Esercizio 2.2\n",
    "\n",
    "aggiungere qui le formule da scrivere"
   ]
  },
  {
   "cell_type": "code",
   "execution_count": 34,
   "metadata": {},
   "outputs": [],
   "source": [
    "# Equazione 1\n",
    "x = 0\n",
    "y = 3 * x / 2\n",
    "\n",
    "# Equazione 2\n",
    "b = 4\n",
    "c = 5\n",
    "z = 3 * b * c + 4\n",
    "\n",
    "# Equazione 3\n",
    "a = (x + 2) / (b - 1) \n"
   ]
  },
  {
   "cell_type": "markdown",
   "metadata": {},
   "source": [
    "## Caratteri non stampabili\n",
    "\n",
    "* \\t inserisce un tab\n",
    "* \\n inserisce un accapo\n",
    "* \\ effettua un \"escape\" del carattere successivo (cioè viene ignorato il significato che avrebbe nel linguaggio di programmazione\n",
    "    * \\\\' permette di scrivere un apice in una stringa delimitata da apici\n",
    "    * \\\\\" permette di scrivere le virgolette in una stringa delimitata dalle virgolette\n",
    "* \\\\\\\\ stampa un backslash"
   ]
  },
  {
   "cell_type": "code",
   "execution_count": 38,
   "metadata": {},
   "outputs": [
    {
     "name": "stdout",
     "output_type": "stream",
     "text": [
      "Un esempio di stringa su due righe \n",
      "ecco qui la seconda riga\n",
      "\tLun\tMar\tMer\n",
      "Stampo un backslash \\\n"
     ]
    }
   ],
   "source": [
    "print(\"Un esempio di stringa su due righe \\necco qui la seconda riga\")\n",
    "\n",
    "print(\"\\tLun\\tMar\\tMer\")\n",
    "\n",
    "print(\"Stampo un backslash \\\\\")\n"
   ]
  },
  {
   "cell_type": "markdown",
   "metadata": {},
   "source": [
    "## Formattazione dei numeri\n",
    "* si utilizza la funzione format per specificare come rendere in formato stringa un determinato numero (int o float).\n",
    "* il secondo parametro della funzione prende una stringa che permette di controllare\n",
    "    * il numero delle cifre decimali con .3f. Il punto indica il separatore dei decimali, la f che si tratta del controllo dei numeri dopo la virgola e il 3 è l'esatto numero che vogliamo\n",
    "    * possiamo controllare il numero di caratteri utilizzati per stampare un intero con il carattere d preceduto dal numero di caratteri che vogliamo (p.es. 10d)\n",
    "    * notazione scientifica con il carattere e"
   ]
  },
  {
   "cell_type": "code",
   "execution_count": 44,
   "metadata": {},
   "outputs": [
    {
     "name": "stdout",
     "output_type": "stream",
     "text": [
      "1234.565\n",
      "     12345\n",
      "1.232700e+02\n"
     ]
    }
   ],
   "source": [
    "# esempio di formattazione di un float\n",
    "print(format(1234.5649, '.3f'))\n",
    "\n",
    "# esempio di formattazione di un intero\n",
    "print(format(12345, '10d'))\n",
    "\n",
    "# esempio di formattazione in notazione scientifica\n",
    "print(format(123.27, 'e'))\n"
   ]
  },
  {
   "cell_type": "code",
   "execution_count": null,
   "metadata": {},
   "outputs": [],
   "source": []
  }
 ],
 "metadata": {
  "kernelspec": {
   "display_name": "Python 3",
   "language": "python",
   "name": "python3"
  },
  "language_info": {
   "codemirror_mode": {
    "name": "ipython",
    "version": 3
   },
   "file_extension": ".py",
   "mimetype": "text/x-python",
   "name": "python",
   "nbconvert_exporter": "python",
   "pygments_lexer": "ipython3",
   "version": "3.9.4"
  }
 },
 "nbformat": 4,
 "nbformat_minor": 1
}
